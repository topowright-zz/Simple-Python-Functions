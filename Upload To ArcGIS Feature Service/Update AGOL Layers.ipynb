{
 "cells": [
  {
   "cell_type": "code",
   "execution_count": 1,
   "metadata": {},
   "outputs": [],
   "source": [
    "from arcgis.gis import GIS\n",
    "import pandas as pd\n",
    "import os"
   ]
  },
  {
   "cell_type": "markdown",
   "metadata": {},
   "source": [
    "#### Inputs for layers"
   ]
  },
  {
   "cell_type": "code",
   "execution_count": 2,
   "metadata": {},
   "outputs": [],
   "source": [
    "# Inputs for script:\n",
    "# Input the name of the file that we will be pushing to AGOL\n",
    "filename= 'SampleUpload.csv'\n",
    "gis_id = '4c25c58f42d447ef82f1cf40afb989c7'\n"
   ]
  },
  {
   "cell_type": "code",
   "execution_count": 19,
   "metadata": {},
   "outputs": [
    {
     "name": "stdout",
     "output_type": "stream",
     "text": [
      "Successfully logged in as: gsxuser\n"
     ]
    }
   ],
   "source": [
    "#Username and Password for AGOL\n",
    "#username = \"Enter your username\"\n",
    "#password = \"Enter your password\"\n",
    "#org_url = r\"Enter your ArcGIS online URL\"\n",
    "\n",
    "gis = GIS(org_url, username, password)\n",
    "print(\"Successfully logged in as: \" + gis.properties.user.username)"
   ]
  },
  {
   "cell_type": "code",
   "execution_count": 4,
   "metadata": {},
   "outputs": [],
   "source": [
    "item = gis.content.get(gis_id)\n",
    "item_lyr = item.layers[0]\n",
    "gis_df = item_lyr.query(return_geometry=True).sdf\n"
   ]
  },
  {
   "cell_type": "code",
   "execution_count": 13,
   "metadata": {},
   "outputs": [],
   "source": [
    "#Functions used to update and pull data\n",
    "def batch_it(l, n):\n",
    "\n",
    "    for i in range(0, len(l), n):\n",
    "        yield l[i:i + n]\n",
    "\n",
    "def createCSVPath(filename):\n",
    "    path = os.path.abspath('')\n",
    "    csv_path = path + \"/\" + filename\n",
    "    return csv_path"
   ]
  },
  {
   "cell_type": "code",
   "execution_count": null,
   "metadata": {},
   "outputs": [],
   "source": [
    "filename = \"SampleUpload.csv\"\n",
    "mycsv = createCSVPath(filename)\n",
    "print(mycsv)"
   ]
  },
  {
   "cell_type": "code",
   "execution_count": 16,
   "metadata": {},
   "outputs": [
    {
     "data": {
      "text/plain": [
       "{'success': True}"
      ]
     },
     "execution_count": 16,
     "metadata": {},
     "output_type": "execute_result"
    }
   ],
   "source": [
    "#Remove the data from the layer in AGOL; We will add the data in the next step\n",
    "item_lyr.manager.truncate()"
   ]
  },
  {
   "cell_type": "code",
   "execution_count": 17,
   "metadata": {},
   "outputs": [
    {
     "name": "stdout",
     "output_type": "stream",
     "text": [
      "The csv that is being read into AGOL is: D:\\Notbooks\\Untitled Folder/SampleUpload.csv\n",
      "Empty DataFrame\n",
      "Columns: []\n",
      "Index: []\n"
     ]
    }
   ],
   "source": [
    "\n",
    "# Read the csv file from local directory into a pandas dataframe:\n",
    "df = pd.read_csv(mycsv)\n",
    "print(\"The csv that is being read into AGOL is: \" + mycsv)\n",
    "print(gis_df)"
   ]
  },
  {
   "cell_type": "code",
   "execution_count": 18,
   "metadata": {},
   "outputs": [
    {
     "name": "stdout",
     "output_type": "stream",
     "text": [
      "Added 19 rows of 19\n"
     ]
    }
   ],
   "source": [
    "#Push the content into the gis layer identified above\n",
    "update_sets = list(batch_it(df.spatial.to_featureset().features, 1000))\n",
    "for edits in update_sets:\n",
    "    res = item_lyr.edit_features(adds=edits, rollback_on_failure=False)['addResults']\n",
    "    print(f\"Added {len([i for i in res if i['success']])} rows of {len(edits)}\")"
   ]
  }
 ],
 "metadata": {
  "kernelspec": {
   "display_name": "Python 3",
   "language": "python",
   "name": "python3"
  },
  "language_info": {
   "codemirror_mode": {
    "name": "ipython",
    "version": 3
   },
   "file_extension": ".py",
   "mimetype": "text/x-python",
   "name": "python",
   "nbconvert_exporter": "python",
   "pygments_lexer": "ipython3",
   "version": "3.6.10"
  }
 },
 "nbformat": 4,
 "nbformat_minor": 4
}
